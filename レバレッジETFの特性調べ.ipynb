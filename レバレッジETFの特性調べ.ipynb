{
 "cells": [
  {
   "cell_type": "markdown",
   "metadata": {},
   "source": [
    "# 事前準備"
   ]
  },
  {
   "cell_type": "markdown",
   "metadata": {},
   "source": [
    "所定のデータをダウンロードしてそれぞれ\"data\"ディレクトリに格納してください。\n",
    "- sp500.csv: https://finance.yahoo.com/quote/%5EGSPC/history?p=%5EGSPC\n",
    "- nasdaq.csv: https://finance.yahoo.com/quote/%5ENDX/history?p=%5ENDX\n",
    "- nasdaq100.csv https://finance.yahoo.com/quote/%5EIXIC/history?p=%5EIXIC"
   ]
  },
  {
   "cell_type": "code",
   "execution_count": 1,
   "metadata": {},
   "outputs": [],
   "source": [
    "import numpy as np\n",
    "import matplotlib.pyplot as plt\n",
    "import pandas as pd\n",
    "\n",
    "from collections import namedtuple"
   ]
  },
  {
   "cell_type": "markdown",
   "metadata": {},
   "source": [
    "# データ読み込み及び前処理"
   ]
  },
  {
   "cell_type": "code",
   "execution_count": 2,
   "metadata": {},
   "outputs": [],
   "source": [
    "file_names = ['sp500', 'nasdaq', 'nasdaq100']\n",
    "datas = {k: pd.read_csv(f'data/{k}.csv') for k in file_names}"
   ]
  },
  {
   "cell_type": "code",
   "execution_count": 3,
   "metadata": {},
   "outputs": [],
   "source": [
    "#前日比のカラムを作る\n",
    "for key in datas.keys():\n",
    "    close = datas[key]['Adj Close']\n",
    "    datas[key] = datas[key].drop(0)#一つ目のデータだけ前日比が取れないので捨てる\n",
    "    diff_percent = close.diff().values[1:]/close.values[:-1]\n",
    "    datas[key]['day_ratio'] = diff_percent"
   ]
  },
  {
   "cell_type": "markdown",
   "metadata": {},
   "source": [
    "# レバレッジの価格算出に誤りがないか検証"
   ]
  },
  {
   "cell_type": "code",
   "execution_count": 4,
   "metadata": {},
   "outputs": [
    {
     "data": {
      "text/html": [
       "<div>\n",
       "<style scoped>\n",
       "    .dataframe tbody tr th:only-of-type {\n",
       "        vertical-align: middle;\n",
       "    }\n",
       "\n",
       "    .dataframe tbody tr th {\n",
       "        vertical-align: top;\n",
       "    }\n",
       "\n",
       "    .dataframe thead th {\n",
       "        text-align: right;\n",
       "    }\n",
       "</style>\n",
       "<table border=\"1\" class=\"dataframe\">\n",
       "  <thead>\n",
       "    <tr style=\"text-align: right;\">\n",
       "      <th></th>\n",
       "      <th>Date</th>\n",
       "      <th>Open</th>\n",
       "      <th>High</th>\n",
       "      <th>Low</th>\n",
       "      <th>Close</th>\n",
       "      <th>Adj Close</th>\n",
       "      <th>Volume</th>\n",
       "      <th>day_ratio</th>\n",
       "    </tr>\n",
       "  </thead>\n",
       "  <tbody>\n",
       "    <tr>\n",
       "      <th>1</th>\n",
       "      <td>2008-11-06</td>\n",
       "      <td>4.150000</td>\n",
       "      <td>4.197500</td>\n",
       "      <td>3.552500</td>\n",
       "      <td>3.600000</td>\n",
       "      <td>2.888150</td>\n",
       "      <td>4332000</td>\n",
       "      <td>-0.152941</td>\n",
       "    </tr>\n",
       "    <tr>\n",
       "      <th>2</th>\n",
       "      <td>2008-11-07</td>\n",
       "      <td>3.707500</td>\n",
       "      <td>3.887500</td>\n",
       "      <td>3.611667</td>\n",
       "      <td>3.854167</td>\n",
       "      <td>3.092059</td>\n",
       "      <td>6978000</td>\n",
       "      <td>0.070602</td>\n",
       "    </tr>\n",
       "    <tr>\n",
       "      <th>3</th>\n",
       "      <td>2008-11-10</td>\n",
       "      <td>4.150000</td>\n",
       "      <td>4.161667</td>\n",
       "      <td>3.584167</td>\n",
       "      <td>3.704167</td>\n",
       "      <td>2.971719</td>\n",
       "      <td>5785200</td>\n",
       "      <td>-0.038919</td>\n",
       "    </tr>\n",
       "    <tr>\n",
       "      <th>4</th>\n",
       "      <td>2008-11-11</td>\n",
       "      <td>3.541667</td>\n",
       "      <td>3.687500</td>\n",
       "      <td>3.291667</td>\n",
       "      <td>3.459167</td>\n",
       "      <td>2.775165</td>\n",
       "      <td>11479200</td>\n",
       "      <td>-0.066142</td>\n",
       "    </tr>\n",
       "    <tr>\n",
       "      <th>5</th>\n",
       "      <td>2008-11-12</td>\n",
       "      <td>3.327500</td>\n",
       "      <td>3.327500</td>\n",
       "      <td>3.017500</td>\n",
       "      <td>3.074167</td>\n",
       "      <td>2.466293</td>\n",
       "      <td>13312800</td>\n",
       "      <td>-0.111299</td>\n",
       "    </tr>\n",
       "  </tbody>\n",
       "</table>\n",
       "</div>"
      ],
      "text/plain": [
       "         Date      Open      High       Low     Close  Adj Close    Volume  \\\n",
       "1  2008-11-06  4.150000  4.197500  3.552500  3.600000   2.888150   4332000   \n",
       "2  2008-11-07  3.707500  3.887500  3.611667  3.854167   3.092059   6978000   \n",
       "3  2008-11-10  4.150000  4.161667  3.584167  3.704167   2.971719   5785200   \n",
       "4  2008-11-11  3.541667  3.687500  3.291667  3.459167   2.775165  11479200   \n",
       "5  2008-11-12  3.327500  3.327500  3.017500  3.074167   2.466293  13312800   \n",
       "\n",
       "   day_ratio  \n",
       "1  -0.152941  \n",
       "2   0.070602  \n",
       "3  -0.038919  \n",
       "4  -0.066142  \n",
       "5  -0.111299  "
      ]
     },
     "execution_count": 4,
     "metadata": {},
     "output_type": "execute_result"
    }
   ],
   "source": [
    "spxl = pd.read_csv('data/SPXL.csv')\n",
    "close = spxl['Adj Close']\n",
    "spxl = spxl.drop(0)\n",
    "spxl['day_ratio'] = close.diff().values[1:]/close.values[:-1]\n",
    "spxl.head()"
   ]
  },
  {
   "cell_type": "code",
   "execution_count": 6,
   "metadata": {},
   "outputs": [
    {
     "data": {
      "image/png": "[encoded data removed]",
      "text/plain": [
       "<Figure size 432x288 with 1 Axes>"
      ]
     },
     "metadata": {
      "needs_background": "light"
     },
     "output_type": "display_data"
    },
    {
     "data": {
      "image/png": "[encoded data removed]",
      "text/plain": [
       "<Figure size 432x288 with 1 Axes>"
      ]
     },
     "metadata": {
      "needs_background": "light"
     },
     "output_type": "display_data"
    },
    {
     "data": {
      "image/png": "[encoded data removed]",
      "text/plain": [
       "<Figure size 432x288 with 1 Axes>"
      ]
     },
     "metadata": {
      "needs_background": "light"
     },
     "output_type": "display_data"
    }
   ],
   "source": [
    "vs_spxl_sp500 = datas['sp500'].query('Date >= \"2008-11-06\"')\n",
    "vs_spxl_sp500_plus1 = vs_spxl_sp500['day_ratio'].values+1\n",
    "rr = spxl.day_ratio.values/(vs_spxl_sp500.day_ratio.values+ 1e-9)\n",
    "plt.title('(SPXL day ratio / SP500 day ratio) histogram')\n",
    "_ = plt.hist(rr, bins=100, range=(0,6))\n",
    "plt.show()\n",
    "\n",
    "n = 0\n",
    "N = -1\n",
    "sp500_ratio_3 = vs_spxl_sp500.day_ratio*3 + 1\n",
    "cumprod_sp500_ratio_3 = np.cumprod(sp500_ratio_3.values)\n",
    "t1 = (cumprod_sp500_ratio_3/cumprod_sp500_ratio_3[n])[n:N]\n",
    "t2 = (spxl['Adj Close'].values/spxl['Adj Close'].iloc[n])[n:N]\n",
    "plt.plot(t1, label='sp500 x3')\n",
    "plt.plot(t2, label='spxl')\n",
    "plt.legend()\n",
    "plt.show()\n",
    "plt.plot(np.diff(t1/t2), label='sp500 x3/spxl')\n",
    "plt.legend()\n",
    "plt.show()"
   ]
  },
  {
   "cell_type": "raw",
   "metadata": {},
   "source": [
    "乖離はあるがだいたい同じ挙動をしている.ただ一般に言う乖離は損な方向に働くものだとおもったけど買う側に有利な乖離だった"
   ]
  },
  {
   "cell_type": "code",
   "execution_count": 322,
   "metadata": {},
   "outputs": [
    {
     "ename": "FileNotFoundError",
     "evalue": "[Errno 2] File ナスダック100 過去データ.csv does not exist: 'ナスダック100 過去データ.csv'",
     "output_type": "error",
     "traceback": [
      "\u001b[1;31m---------------------------------------------------------------------------\u001b[0m",
      "\u001b[1;31mFileNotFoundError\u001b[0m                         Traceback (most recent call last)",
      "\u001b[1;32m<ipython-input-322-53a71698a6dc>\u001b[0m in \u001b[0;36m<module>\u001b[1;34m\u001b[0m\n\u001b[1;32m----> 1\u001b[1;33m \u001b[0mnasdaq\u001b[0m \u001b[1;33m=\u001b[0m \u001b[0mpd\u001b[0m\u001b[1;33m.\u001b[0m\u001b[0mread_csv\u001b[0m\u001b[1;33m(\u001b[0m\u001b[1;34m\"ナスダック100 過去データ.csv\"\u001b[0m\u001b[1;33m)\u001b[0m\u001b[1;31m#.loc[:4000]\u001b[0m\u001b[1;33m\u001b[0m\u001b[1;33m\u001b[0m\u001b[0m\n\u001b[0m",
      "\u001b[1;32m~\\anaconda3\\lib\\site-packages\\pandas\\io\\parsers.py\u001b[0m in \u001b[0;36mparser_f\u001b[1;34m(filepath_or_buffer, sep, delimiter, header, names, index_col, usecols, squeeze, prefix, mangle_dupe_cols, dtype, engine, converters, true_values, false_values, skipinitialspace, skiprows, skipfooter, nrows, na_values, keep_default_na, na_filter, verbose, skip_blank_lines, parse_dates, infer_datetime_format, keep_date_col, date_parser, dayfirst, cache_dates, iterator, chunksize, compression, thousands, decimal, lineterminator, quotechar, quoting, doublequote, escapechar, comment, encoding, dialect, error_bad_lines, warn_bad_lines, delim_whitespace, low_memory, memory_map, float_precision)\u001b[0m\n\u001b[0;32m    674\u001b[0m         )\n\u001b[0;32m    675\u001b[0m \u001b[1;33m\u001b[0m\u001b[0m\n\u001b[1;32m--> 676\u001b[1;33m         \u001b[1;32mreturn\u001b[0m \u001b[0m_read\u001b[0m\u001b[1;33m(\u001b[0m\u001b[0mfilepath_or_buffer\u001b[0m\u001b[1;33m,\u001b[0m \u001b[0mkwds\u001b[0m\u001b[1;33m)\u001b[0m\u001b[1;33m\u001b[0m\u001b[1;33m\u001b[0m\u001b[0m\n\u001b[0m\u001b[0;32m    677\u001b[0m \u001b[1;33m\u001b[0m\u001b[0m\n\u001b[0;32m    678\u001b[0m     \u001b[0mparser_f\u001b[0m\u001b[1;33m.\u001b[0m\u001b[0m__name__\u001b[0m \u001b[1;33m=\u001b[0m \u001b[0mname\u001b[0m\u001b[1;33m\u001b[0m\u001b[1;33m\u001b[0m\u001b[0m\n",
      "\u001b[1;32m~\\anaconda3\\lib\\site-packages\\pandas\\io\\parsers.py\u001b[0m in \u001b[0;36m_read\u001b[1;34m(filepath_or_buffer, kwds)\u001b[0m\n\u001b[0;32m    446\u001b[0m \u001b[1;33m\u001b[0m\u001b[0m\n\u001b[0;32m    447\u001b[0m     \u001b[1;31m# Create the parser.\u001b[0m\u001b[1;33m\u001b[0m\u001b[1;33m\u001b[0m\u001b[1;33m\u001b[0m\u001b[0m\n\u001b[1;32m--> 448\u001b[1;33m     \u001b[0mparser\u001b[0m \u001b[1;33m=\u001b[0m \u001b[0mTextFileReader\u001b[0m\u001b[1;33m(\u001b[0m\u001b[0mfp_or_buf\u001b[0m\u001b[1;33m,\u001b[0m \u001b[1;33m**\u001b[0m\u001b[0mkwds\u001b[0m\u001b[1;33m)\u001b[0m\u001b[1;33m\u001b[0m\u001b[1;33m\u001b[0m\u001b[0m\n\u001b[0m\u001b[0;32m    449\u001b[0m \u001b[1;33m\u001b[0m\u001b[0m\n\u001b[0;32m    450\u001b[0m     \u001b[1;32mif\u001b[0m \u001b[0mchunksize\u001b[0m \u001b[1;32mor\u001b[0m \u001b[0miterator\u001b[0m\u001b[1;33m:\u001b[0m\u001b[1;33m\u001b[0m\u001b[1;33m\u001b[0m\u001b[0m\n",
      "\u001b[1;32m~\\anaconda3\\lib\\site-packages\\pandas\\io\\parsers.py\u001b[0m in \u001b[0;36m__init__\u001b[1;34m(self, f, engine, **kwds)\u001b[0m\n\u001b[0;32m    878\u001b[0m             \u001b[0mself\u001b[0m\u001b[1;33m.\u001b[0m\u001b[0moptions\u001b[0m\u001b[1;33m[\u001b[0m\u001b[1;34m\"has_index_names\"\u001b[0m\u001b[1;33m]\u001b[0m \u001b[1;33m=\u001b[0m \u001b[0mkwds\u001b[0m\u001b[1;33m[\u001b[0m\u001b[1;34m\"has_index_names\"\u001b[0m\u001b[1;33m]\u001b[0m\u001b[1;33m\u001b[0m\u001b[1;33m\u001b[0m\u001b[0m\n\u001b[0;32m    879\u001b[0m \u001b[1;33m\u001b[0m\u001b[0m\n\u001b[1;32m--> 880\u001b[1;33m         \u001b[0mself\u001b[0m\u001b[1;33m.\u001b[0m\u001b[0m_make_engine\u001b[0m\u001b[1;33m(\u001b[0m\u001b[0mself\u001b[0m\u001b[1;33m.\u001b[0m\u001b[0mengine\u001b[0m\u001b[1;33m)\u001b[0m\u001b[1;33m\u001b[0m\u001b[1;33m\u001b[0m\u001b[0m\n\u001b[0m\u001b[0;32m    881\u001b[0m \u001b[1;33m\u001b[0m\u001b[0m\n\u001b[0;32m    882\u001b[0m     \u001b[1;32mdef\u001b[0m \u001b[0mclose\u001b[0m\u001b[1;33m(\u001b[0m\u001b[0mself\u001b[0m\u001b[1;33m)\u001b[0m\u001b[1;33m:\u001b[0m\u001b[1;33m\u001b[0m\u001b[1;33m\u001b[0m\u001b[0m\n",
      "\u001b[1;32m~\\anaconda3\\lib\\site-packages\\pandas\\io\\parsers.py\u001b[0m in \u001b[0;36m_make_engine\u001b[1;34m(self, engine)\u001b[0m\n\u001b[0;32m   1112\u001b[0m     \u001b[1;32mdef\u001b[0m \u001b[0m_make_engine\u001b[0m\u001b[1;33m(\u001b[0m\u001b[0mself\u001b[0m\u001b[1;33m,\u001b[0m \u001b[0mengine\u001b[0m\u001b[1;33m=\u001b[0m\u001b[1;34m\"c\"\u001b[0m\u001b[1;33m)\u001b[0m\u001b[1;33m:\u001b[0m\u001b[1;33m\u001b[0m\u001b[1;33m\u001b[0m\u001b[0m\n\u001b[0;32m   1113\u001b[0m         \u001b[1;32mif\u001b[0m \u001b[0mengine\u001b[0m \u001b[1;33m==\u001b[0m \u001b[1;34m\"c\"\u001b[0m\u001b[1;33m:\u001b[0m\u001b[1;33m\u001b[0m\u001b[1;33m\u001b[0m\u001b[0m\n\u001b[1;32m-> 1114\u001b[1;33m             \u001b[0mself\u001b[0m\u001b[1;33m.\u001b[0m\u001b[0m_engine\u001b[0m \u001b[1;33m=\u001b[0m \u001b[0mCParserWrapper\u001b[0m\u001b[1;33m(\u001b[0m\u001b[0mself\u001b[0m\u001b[1;33m.\u001b[0m\u001b[0mf\u001b[0m\u001b[1;33m,\u001b[0m \u001b[1;33m**\u001b[0m\u001b[0mself\u001b[0m\u001b[1;33m.\u001b[0m\u001b[0moptions\u001b[0m\u001b[1;33m)\u001b[0m\u001b[1;33m\u001b[0m\u001b[1;33m\u001b[0m\u001b[0m\n\u001b[0m\u001b[0;32m   1115\u001b[0m         \u001b[1;32melse\u001b[0m\u001b[1;33m:\u001b[0m\u001b[1;33m\u001b[0m\u001b[1;33m\u001b[0m\u001b[0m\n\u001b[0;32m   1116\u001b[0m             \u001b[1;32mif\u001b[0m \u001b[0mengine\u001b[0m \u001b[1;33m==\u001b[0m \u001b[1;34m\"python\"\u001b[0m\u001b[1;33m:\u001b[0m\u001b[1;33m\u001b[0m\u001b[1;33m\u001b[0m\u001b[0m\n",
      "\u001b[1;32m~\\anaconda3\\lib\\site-packages\\pandas\\io\\parsers.py\u001b[0m in \u001b[0;36m__init__\u001b[1;34m(self, src, **kwds)\u001b[0m\n\u001b[0;32m   1889\u001b[0m         \u001b[0mkwds\u001b[0m\u001b[1;33m[\u001b[0m\u001b[1;34m\"usecols\"\u001b[0m\u001b[1;33m]\u001b[0m \u001b[1;33m=\u001b[0m \u001b[0mself\u001b[0m\u001b[1;33m.\u001b[0m\u001b[0musecols\u001b[0m\u001b[1;33m\u001b[0m\u001b[1;33m\u001b[0m\u001b[0m\n\u001b[0;32m   1890\u001b[0m \u001b[1;33m\u001b[0m\u001b[0m\n\u001b[1;32m-> 1891\u001b[1;33m         \u001b[0mself\u001b[0m\u001b[1;33m.\u001b[0m\u001b[0m_reader\u001b[0m \u001b[1;33m=\u001b[0m \u001b[0mparsers\u001b[0m\u001b[1;33m.\u001b[0m\u001b[0mTextReader\u001b[0m\u001b[1;33m(\u001b[0m\u001b[0msrc\u001b[0m\u001b[1;33m,\u001b[0m \u001b[1;33m**\u001b[0m\u001b[0mkwds\u001b[0m\u001b[1;33m)\u001b[0m\u001b[1;33m\u001b[0m\u001b[1;33m\u001b[0m\u001b[0m\n\u001b[0m\u001b[0;32m   1892\u001b[0m         \u001b[0mself\u001b[0m\u001b[1;33m.\u001b[0m\u001b[0munnamed_cols\u001b[0m \u001b[1;33m=\u001b[0m \u001b[0mself\u001b[0m\u001b[1;33m.\u001b[0m\u001b[0m_reader\u001b[0m\u001b[1;33m.\u001b[0m\u001b[0munnamed_cols\u001b[0m\u001b[1;33m\u001b[0m\u001b[1;33m\u001b[0m\u001b[0m\n\u001b[0;32m   1893\u001b[0m \u001b[1;33m\u001b[0m\u001b[0m\n",
      "\u001b[1;32mpandas\\_libs\\parsers.pyx\u001b[0m in \u001b[0;36mpandas._libs.parsers.TextReader.__cinit__\u001b[1;34m()\u001b[0m\n",
      "\u001b[1;32mpandas\\_libs\\parsers.pyx\u001b[0m in \u001b[0;36mpandas._libs.parsers.TextReader._setup_parser_source\u001b[1;34m()\u001b[0m\n",
      "\u001b[1;31mFileNotFoundError\u001b[0m: [Errno 2] File ナスダック100 過去データ.csv does not exist: 'ナスダック100 過去データ.csv'"
     ]
    }
   ],
   "source": [
    "nasdaq = pd.read_csv(\"ナスダック100 過去データ.csv\")#.loc[:4000]"
   ]
  },
  {
   "cell_type": "code",
   "execution_count": null,
   "metadata": {},
   "outputs": [],
   "source": [
    "nasdaq"
   ]
  },
  {
   "cell_type": "code",
   "execution_count": null,
   "metadata": {},
   "outputs": [],
   "source": [
    "l_rates = nasdaq[\"前日比%\"].apply(lambda x: float(x[:-1])/100)[::-1].values*3 + 1\n",
    "rates = nasdaq[\"前日比%\"].apply(lambda x: float(x[:-1])/100)[::-1].values + 1\n",
    "l_rates = np.insert(l_rates, 0, 1)\n",
    "rates = np.insert(rates, 0, 1)"
   ]
  },
  {
   "cell_type": "code",
   "execution_count": null,
   "metadata": {},
   "outputs": [],
   "source": [
    "def laplace(x, m, v):\n",
    "    b = (v/2)**0.5\n",
    "    return np.exp(-abs(x-m)/b)/2/b"
   ]
  },
  {
   "cell_type": "code",
   "execution_count": null,
   "metadata": {},
   "outputs": [],
   "source": [
    "data = rates[1:]\n",
    "_ = plt.hist(data, bins=100, )\n",
    "X = np.arange(0.8, 1.15, 0.001)\n",
    "plt.plot(X, 12*laplace(X, np.mean(data), np.var(data)))"
   ]
  },
  {
   "cell_type": "code",
   "execution_count": null,
   "metadata": {},
   "outputs": [],
   "source": [
    "plt.plot(np.cumprod(rates))\n",
    "plt.plot(np.cumprod(l_rates))\n",
    "plt.yscale('log')"
   ]
  },
  {
   "cell_type": "code",
   "execution_count": null,
   "metadata": {},
   "outputs": [],
   "source": [
    "r = np.random.choice(rates, 4000, replace=True)\n",
    "plt.plot(r)\n",
    "plt.plot(rates)"
   ]
  },
  {
   "cell_type": "code",
   "execution_count": null,
   "metadata": {},
   "outputs": [],
   "source": [
    "def exe(leverage=3, day_num=100, sp=1):\n",
    "    arr_list = [[0.8, 1.1, 1.1, 1.04]]\n",
    "    N = day_num//10\n",
    "    for _ in range(N):\n",
    "        r = ((sp**(1/N))**(1/10))+np.random.randn(9)*0.005\n",
    "        arr_list.append(r)\n",
    "        arr_list.append([sp**(1/N)/np.prod(r)])\n",
    "    r = np.concatenate(arr_list)\n",
    "    np.random.shuffle(r)\n",
    "    return np.prod(leverage*(r-1)+1)"
   ]
  },
  {
   "cell_type": "code",
   "execution_count": null,
   "metadata": {},
   "outputs": [],
   "source": [
    "exe2_rates = nasdaq[\"前日比%\"].apply(lambda x: float(x[:-1])/100)[::-1].values\n",
    "def exe2(leverage=3, day_num=100, ):\n",
    "    r = np.random.choice(exe2_rates, day_num, replace=True)*leverage + 1\n",
    "    return np.prod(r)"
   ]
  },
  {
   "cell_type": "code",
   "execution_count": null,
   "metadata": {},
   "outputs": [],
   "source": [
    "rates = nasdaq[\"前日比%\"].apply(lambda x: float(x[:-1])/100)[::-1].values + 1\n",
    "for _  in range(10):\n",
    "    r = np.random.choice(rates, 365, replace=True)\n",
    "    plt.plot(r.cumprod())\n",
    "plt.show()\n",
    "    \n",
    "for _  in range(10):\n",
    "    start = np.random.choice(np.arange(len(rates)-365), 1)[0]\n",
    "    plt.plot(rates[start:start+365].cumprod())\n",
    "plt.show()"
   ]
  },
  {
   "cell_type": "code",
   "execution_count": null,
   "metadata": {},
   "outputs": [],
   "source": [
    "D = 1800\n",
    "rates = nasdaq[\"前日比%\"].apply(lambda x: float(x[:-1])/100)[::-1].values\n",
    "res1 = []\n",
    "res2 = []\n",
    "res3 = []\n",
    "np.random.seed(100)\n",
    "for _  in range(10000):\n",
    "    r = np.random.choice(rates, D, replace=True) + 1\n",
    "    res1.append(np.prod(r))\n",
    "    \n",
    "np.random.seed(100)\n",
    "for _  in range(10000):\n",
    "    start = np.random.choice(np.arange(len(rates)-D), 1)[0] \n",
    "    res2.append(np.prod(rates[start:start+D]+1))\n",
    "    \n",
    "np.random.seed(100)\n",
    "for _  in range(10000):\n",
    "    start = np.random.choice(np.arange(len(rates)-D), 1)[0] \n",
    "    res3.append(np.prod(rates[start:start+D]*3+1))\n",
    "    \n",
    "__ = plt.hist([res2,res3], bins=100)"
   ]
  },
  {
   "cell_type": "code",
   "execution_count": null,
   "metadata": {},
   "outputs": [],
   "source": [
    "D = 365*5\n",
    "rates = nasdaq[\"前日比%\"].apply(lambda x: float(x[:-1])/100)[::-1].values\n",
    "\n",
    "def doll_cost(rates):\n",
    "    cp = np.cumprod(rates)\n",
    "    r = cp[-1]/cp\n",
    "    return r.mean()\n",
    "dres1 = []\n",
    "dres2 = []\n",
    "dres3 = []\n",
    "np.random.seed(100)\n",
    "for _  in range(10000):\n",
    "    r = np.random.choice(rates, D, replace=True) + 1\n",
    "    dres1.append(doll_cost(r))\n",
    "    \n",
    "np.random.seed(100)\n",
    "for _  in range(10000):\n",
    "    start = np.random.choice(np.arange(len(rates)-D), 1)[0] \n",
    "    dres2.append(doll_cost(rates[start:start+D]+1))\n",
    "    \n",
    "np.random.seed(100)\n",
    "for _  in range(10000):\n",
    "    start = np.random.choice(np.arange(len(rates)-D), 1)[0] \n",
    "    dres3.append(doll_cost(rates[start:start+D]*3+1))\n",
    "    \n",
    "__ = plt.hist([dres1, dres2, dres3], bins=100)"
   ]
  },
  {
   "cell_type": "code",
   "execution_count": null,
   "metadata": {},
   "outputs": [],
   "source": [
    "_ = plt.hist(dres3, bins=100)"
   ]
  },
  {
   "cell_type": "code",
   "execution_count": null,
   "metadata": {},
   "outputs": [],
   "source": [
    "np.mean(dres3)"
   ]
  },
  {
   "cell_type": "code",
   "execution_count": null,
   "metadata": {},
   "outputs": [],
   "source": [
    "np.sum(np.array(dres3)5)/len(dres3)"
   ]
  },
  {
   "cell_type": "code",
   "execution_count": null,
   "metadata": {},
   "outputs": [],
   "source": [
    "_ = plt.hist([res3, res2], bins=100,density=True)"
   ]
  },
  {
   "cell_type": "code",
   "execution_count": null,
   "metadata": {},
   "outputs": [],
   "source": [
    "np.mean(res3),  np.mean(res2)"
   ]
  },
  {
   "cell_type": "code",
   "execution_count": null,
   "metadata": {},
   "outputs": [],
   "source": [
    "np.sum(np.array(res3)>=1)/len(res3), np.sum(np.array(res2)>=1)/len(res3)"
   ]
  },
  {
   "cell_type": "code",
   "execution_count": null,
   "metadata": {},
   "outputs": [],
   "source": [
    "_ = plt.hist(res3, bins=100)\n",
    "#_ = plt.hist(res3, bins=100, range=(0, 4))"
   ]
  },
  {
   "cell_type": "code",
   "execution_count": null,
   "metadata": {},
   "outputs": [],
   "source": [
    "_ = plt.hist(res2, bins=100)"
   ]
  },
  {
   "cell_type": "code",
   "execution_count": null,
   "metadata": {},
   "outputs": [],
   "source": [
    "np.sum(np.array(res3)>2)/len(res3), np.sum(np.array(res2)>2)/len(res3)"
   ]
  },
  {
   "cell_type": "code",
   "execution_count": null,
   "metadata": {},
   "outputs": [],
   "source": [
    "np.sum(np.array(res3)<0.1)/len(res3), np.sum(np.array(res2)<0.1)/len(res3)"
   ]
  },
  {
   "cell_type": "code",
   "execution_count": null,
   "metadata": {},
   "outputs": [],
   "source": [
    "for l in [1, 2, 3, 4]:\n",
    "    res = []\n",
    "    np.random.seed(100)\n",
    "    for _ in range(10000):\n",
    "        res.append(exe2(leverage=l, day_num=3650//2,))\n",
    "    _ = plt.hist(res, bins=100, density=True)\n",
    "    ref = 0.1\n",
    "    print(f\"{ref*10}割に下がる確率\", np.sum(np.array(res)<ref)/len(res))\n",
    "    print(np.mean(res), np.std(res))\n",
    "    plt.show()"
   ]
  },
  {
   "cell_type": "code",
   "execution_count": null,
   "metadata": {},
   "outputs": [],
   "source": []
  }
 ],
 "metadata": {
  "kernelspec": {
   "display_name": "Python 3",
   "language": "python",
   "name": "python3"
  },
  "language_info": {
   "codemirror_mode": {
    "name": "ipython",
    "version": 3
   },
   "file_extension": ".py",
   "mimetype": "text/x-python",
   "name": "python",
   "nbconvert_exporter": "python",
   "pygments_lexer": "ipython3",
   "version": "3.7.6"
  }
 },
 "nbformat": 4,
 "nbformat_minor": 4
}
